{
 "cells": [
  {
   "cell_type": "markdown",
   "metadata": {},
   "source": [
    "<a id='content'></a>\n",
    "<img src='photos/新东方live.jpg' width=\"280\"/>\n",
    "## 😎目录👺\n",
    "* [1.问题陈述](#problem_statement)  \n",
    "* [2.假设检验](#hypothesis_testing)\n",
    "    * [2.1.原假设和备择假设](#hypothesis)\n",
    "    * [2.2.设置显著性水平阈值](#alpha)\n",
    "    * [2.3.设置统计功效分析阈值](#statistical_power)\n",
    "    * [2.4.设置最小可检测效应阈值](#minimum_detectable_effect)\n",
    "* [3.设计实验](#experiment_design)\n",
    "    * [3.1.设置随机化单位](#randomization_unit)\n",
    "    * [3.2.确定目标用户](#target_user)\n",
    "    * [3.3.决定样本容量](#sample_size)\n",
    "    * [3.4.决定实验周期](#time_period)\n",
    "* [4.实施实验](#run_the_experiment)\n",
    "    * [4.1.获取数据](#get_data)\n",
    "    * [4.2.切忌偷窥P值](#peek_p_value)\n",
    "* [5.可行性检验](#validity_check)\n",
    "* [6.阐述实验结果并做出决定](#interpret_result_and_make_decision)"
   ]
  },
  {
   "cell_type": "markdown",
   "metadata": {},
   "source": [
    "<a id='problem_statement'></a>\n",
    "## [1.问题陈述](#content)\n",
    "        抖音直播网站（网页端）在4月20号左右对于直播分类标签进行了调整。大的分类由原来的7个（主机单机、娱乐天地等）调整为了9个。为验证更改直播分类标签的行为是否会为平台带来正向影响，我们进行模拟 AB 实验测试一下。 \n",
    "        \n",
    "        首先的问题是如何具体衡量正向影响？比较直接的指标是各直播间收入，但这个数据我们没有采集到。还有很多好的指标，如各直播间观看人数、关注数、互动率等，因为通过更合理的分类，用户会更大可能找到自己感兴趣的内容。根据最终采集到的数据，我们选择的衡量指标 (success metric) 是：每个主播每天直播间的观看人数。  \n",
    "        \n",
    "        如果能收集到更广泛的数据，更好的衡量指标可能是：\n",
    "* 渗透率：进入房间人数/活跃人数。（相比于人数，比率更有意义一点，可以一定程度上减少外界因素带来的影响（如平台搞活动导致总活跃人数骤增））\n",
    "* 互动率：进入房间三分钟内发言人数比例。\n",
    "* 用户粘性类：停留率（进入房间超过1min人数/活跃人数）；次日留存；关注率。\n",
    "* 金额类：直播间总收入；人均消费金额。\n",
    "\n",
    "附：衡量一个指标是否是好指标的标准包含如下几个：  \n",
    "①Measurable: can the behavior be tracked using the data collected from users.  \n",
    "②Sensitive: metric has low variability that one can distinguish the treatment from control. (e.g. time spending on the website is not a success metric b/c it changes for a large range (high variability) and is hard to tell whether is changed b/c of the A/B test)  \n",
    "③Attributable: the change can lead to the effect (change of the metric).  \n",
    "④Timely (quick): A/B testing is a very iterating test (needs to be executed in a short time (normally one week since there might be diff. in weekdays and weekends)) \n"
   ]
  },
  {
   "cell_type": "markdown",
   "metadata": {},
   "source": [
    "<a id='hypothesis_testing'></a>\n",
    "## [2.假设检验](#content)"
   ]
  },
  {
   "cell_type": "markdown",
   "metadata": {},
   "source": [
    "<a id='hypothesis'></a>\n",
    "### [2.1.原假设和备择假设](#content)\n",
    "* 原假设（$H_0$）：每个主播每天直播间观看人数在修改直播分类标签前后是一样的。\n",
    "* 备择假设（$H_a$）：每个主播每天直播间观看人数在修改直播分类标签前后是不一样的。\n"
   ]
  },
  {
   "cell_type": "markdown",
   "metadata": {},
   "source": [
    "<a id='alpha'></a>\n",
    "### [2.2.设置显著性水平阈值](#content)\n",
    "$\\alpha = 0.05$  \n",
    "如果$P$值小于$\\alpha$ (0.05)，那么我们拒绝原假设而接受备择假设。  \n",
    "这意味着，无论我们观测到的直播间人数是怎样的，在拒绝原假设之前，我们在统计学上有95%的置信度说明新实验的直播观看人数与旧实验（对照组）是不一样的。  \n",
    "$P$值是假设检验中假设零假设为真时观测到至少与实际观测样本相同极端的样本的概率。"
   ]
  },
  {
   "cell_type": "markdown",
   "metadata": {},
   "source": [
    "<a id='statistical_power'></a>\n",
    "### [2.3.设置统计功效分析阈值](#content)\n",
    "$Statistical\\, Power = 0.80$  \n",
    "实验正确地拒绝了原假设的概率。  \n",
    "P.S.: a `Type I error` is a false positive conclusion (直播间人数在更改分类前后不一样，但实际一样), while a `Type II error` is a false negative conclusion (直播间人数在更改分类前后一样，但实际不一样)。  \n",
    "若$\\beta$代表就犯二类错误的概率，$Statistical\\,Power = 1-\\beta$，即不犯二类错误的概率，即当实验组与对照组差异真的存在时，我们能正确判断的概率。\n"
   ]
  },
  {
   "cell_type": "markdown",
   "metadata": {},
   "source": [
    "<a id='minimum_detectable_effect'></a>\n",
    "### [2.4.设置最小可检测效应阈值](#content)\n",
    "$1\\%$：如果每个主播每天直播间观看人数增长大于$1\\%$的话，我们认为结果是可接受的。（十万级别大平台用户一般可设置成$1\\%$）"
   ]
  },
  {
   "cell_type": "markdown",
   "metadata": {},
   "source": [
    "<a id='experiment_design'></a>\n",
    "## [3.设计实验](#content)"
   ]
  },
  {
   "cell_type": "markdown",
   "metadata": {},
   "source": [
    "<a id='randomization_unit'></a>\n",
    "### [3.1.设置随机化单位](#content)\n",
    "设置随机化单位:平台用户。  \n",
    "A randomization unit is the “who” or “what” that is randomly allocated to each group."
   ]
  },
  {
   "cell_type": "markdown",
   "metadata": {},
   "source": [
    "<a id='target_user'></a>\n",
    "### [3.2.确定目标用户](#content)\n",
    "根据下图的漏斗分析：  \n",
    "<img src='photos/user_funnel.png' width=\"280\"/>  \n",
    "更改直播分类标签的行为影响了绿色的第二层（\"进入分区\"），而我们的目标用户应该是在第三层中，即通过点击分区而进入某直播间的用户们。"
   ]
  },
  {
   "cell_type": "markdown",
   "metadata": {},
   "source": [
    "<a id='sample_size'></a>\n",
    "### [3.3.决定样本容量](#content)\n",
    "一般按照下图计算样本容量：  \n",
    "<img src='photos/sample_size.png' width=\"280\"/>  \n",
    "更多流量分配准则[请见这里](https://www.zhihu.com/question/20045543)"
   ]
  },
  {
   "cell_type": "code",
   "execution_count": 16,
   "metadata": {},
   "outputs": [],
   "source": [
    "import pandas as pd\n",
    "import numpy as np\n",
    "import apyori\n",
    "from apyori import apriori\n",
    "import seaborn as sns\n",
    "%matplotlib inline\n",
    "import scipy.stats as stats\n",
    "import statsmodels.stats.api as sms\n",
    "from math import ceil\n",
    "pd.set_option('display.max_columns', 500)\n",
    "pd.set_option('display.max_rows', 500)"
   ]
  },
  {
   "cell_type": "code",
   "execution_count": 2,
   "metadata": {},
   "outputs": [
    {
     "name": "stdout",
     "output_type": "stream",
     "text": [
      "<class 'pandas.core.frame.DataFrame'>\n",
      "RangeIndex: 23288 entries, 0 to 23287\n",
      "Data columns (total 16 columns):\n",
      " #   Column         Non-Null Count  Dtype         \n",
      "---  ------         --------------  -----         \n",
      " 0   Source.Name    23288 non-null  object        \n",
      " 1   id             19673 non-null  object        \n",
      " 2   name           17713 non-null  object        \n",
      " 3   live_adr       23288 non-null  object        \n",
      " 4   live_title     20436 non-null  object        \n",
      " 5   live_cat1      23288 non-null  object        \n",
      " 6   live_cat2      23095 non-null  object        \n",
      " 7   live_pop       22590 non-null  float64       \n",
      " 8   per_adr        23275 non-null  object        \n",
      " 9   per_follow     23197 non-null  float64       \n",
      " 10  per_fans       23207 non-null  object        \n",
      " 11  per_like       23207 non-null  object        \n",
      " 12  per_video_num  23206 non-null  float64       \n",
      " 13  per_intro      23275 non-null  object        \n",
      " 14  date           12658 non-null  datetime64[ns]\n",
      " 15  time_h         23183 non-null  float64       \n",
      "dtypes: datetime64[ns](1), float64(4), object(11)\n",
      "memory usage: 2.8+ MB\n"
     ]
    }
   ],
   "source": [
    "df_src = pd.read_excel('src_data_0627.xlsx')\n",
    "df_src.info()"
   ]
  },
  {
   "cell_type": "code",
   "execution_count": 3,
   "metadata": {},
   "outputs": [
    {
     "data": {
      "text/plain": [
       "940.8173085436034"
      ]
     },
     "execution_count": 3,
     "metadata": {},
     "output_type": "execute_result"
    }
   ],
   "source": [
    "df_src['live_pop'].mean()"
   ]
  },
  {
   "cell_type": "code",
   "execution_count": 4,
   "metadata": {},
   "outputs": [
    {
     "data": {
      "text/plain": [
       "411598.37323440367"
      ]
     },
     "execution_count": 4,
     "metadata": {},
     "output_type": "execute_result"
    }
   ],
   "source": [
    "delta = np.std(df_src['live_pop'])\n",
    "# since the mean population we have in each living room is around 940, we deem an increation of 10 people in each living room as significant.\n",
    "sample_size = 16*(delta**2)/(10**2)\n",
    "sample_size"
   ]
  },
  {
   "cell_type": "markdown",
   "metadata": {},
   "source": [
    "<a id='time_period'></a>\n",
    "### [3.4.决定实验周期](#content)\n",
    "一般实验周期在1-2周。我们需要相对快速的得到实验结果，并且很多情况下周末与工作日产生的数据会有较大不同，实验周期需要满一个星期。"
   ]
  },
  {
   "cell_type": "markdown",
   "metadata": {},
   "source": [
    "<a id='run_the_experiment'></a>\n",
    "## [4.实施实验](#content)"
   ]
  },
  {
   "cell_type": "markdown",
   "metadata": {},
   "source": [
    "<a id='get_data'></a>\n",
    "### [4.1.获取数据](#content)\n",
    "设置设备和数据管道去获取数据。我们通过[Python爬虫获取了原始数据](https://github.com/tandesen/douyin_live/blob/main/web_crawler/python_crawler_code.md)。"
   ]
  },
  {
   "cell_type": "markdown",
   "metadata": {},
   "source": [
    "<a id='peek_p_value'></a>\n",
    "### [4.2.切忌偷窥P值](#content)\n",
    "不要实验做到一半就去计算统计$P$值得出结果，这样会增加 Type II Error 概率。"
   ]
  },
  {
   "cell_type": "code",
   "execution_count": 5,
   "metadata": {},
   "outputs": [
    {
     "data": {
      "text/html": [
       "<div>\n",
       "<style scoped>\n",
       "    .dataframe tbody tr th:only-of-type {\n",
       "        vertical-align: middle;\n",
       "    }\n",
       "\n",
       "    .dataframe tbody tr th {\n",
       "        vertical-align: top;\n",
       "    }\n",
       "\n",
       "    .dataframe thead th {\n",
       "        text-align: right;\n",
       "    }\n",
       "</style>\n",
       "<table border=\"1\" class=\"dataframe\">\n",
       "  <thead>\n",
       "    <tr style=\"text-align: right;\">\n",
       "      <th></th>\n",
       "      <th>Source.Name</th>\n",
       "      <th>id</th>\n",
       "      <th>name</th>\n",
       "      <th>live_adr</th>\n",
       "      <th>live_title</th>\n",
       "      <th>live_cat1</th>\n",
       "      <th>live_cat2</th>\n",
       "      <th>live_pop</th>\n",
       "      <th>per_adr</th>\n",
       "      <th>per_follow</th>\n",
       "      <th>per_fans</th>\n",
       "      <th>per_like</th>\n",
       "      <th>per_video_num</th>\n",
       "      <th>per_intro</th>\n",
       "      <th>date</th>\n",
       "      <th>time_h</th>\n",
       "    </tr>\n",
       "  </thead>\n",
       "  <tbody>\n",
       "    <tr>\n",
       "      <th>0</th>\n",
       "      <td>rlt_主机单机_00_06_04_2022</td>\n",
       "      <td>2102823322</td>\n",
       "      <td>白老师的正经解说</td>\n",
       "      <td>https://live.douyin.com/122968300347</td>\n",
       "      <td>白老师的正经解说的抖音直播间</td>\n",
       "      <td>主机单机</td>\n",
       "      <td>拳皇系列</td>\n",
       "      <td>6140.0</td>\n",
       "      <td>https://www.douyin.com/user/MS4wLjABAAAA7NNqJ5...</td>\n",
       "      <td>8231.0</td>\n",
       "      <td>45.2w</td>\n",
       "      <td>23.5w</td>\n",
       "      <td>83.0</td>\n",
       "      <td>[]</td>\n",
       "      <td>2022-06-04</td>\n",
       "      <td>0.0</td>\n",
       "    </tr>\n",
       "    <tr>\n",
       "      <th>1</th>\n",
       "      <td>rlt_主机单机_00_06_04_2022</td>\n",
       "      <td>Gzdojo_Weili</td>\n",
       "      <td>威力电竞格斗游戏解说</td>\n",
       "      <td>https://live.douyin.com/76490985813</td>\n",
       "      <td>威力电竞格斗游戏解说的抖音直播间</td>\n",
       "      <td>主机单机</td>\n",
       "      <td>拳皇系列</td>\n",
       "      <td>4839.0</td>\n",
       "      <td>https://www.douyin.com/user/MS4wLjABAAAAiCwpDj...</td>\n",
       "      <td>837.0</td>\n",
       "      <td>29.5w</td>\n",
       "      <td>49.6w</td>\n",
       "      <td>567.0</td>\n",
       "      <td>['广州【格斗家】电竞俱乐部【街霸5】选手', '【拳皇】【街霸】专业解说，游戏赛事运营。'...</td>\n",
       "      <td>2022-06-04</td>\n",
       "      <td>0.0</td>\n",
       "    </tr>\n",
       "    <tr>\n",
       "      <th>2</th>\n",
       "      <td>rlt_主机单机_00_06_04_2022</td>\n",
       "      <td>QianNiao530</td>\n",
       "      <td>千鸟</td>\n",
       "      <td>https://live.douyin.com/838081084490</td>\n",
       "      <td>千鸟的抖音直播间</td>\n",
       "      <td>主机单机</td>\n",
       "      <td>战地5</td>\n",
       "      <td>4208.0</td>\n",
       "      <td>https://www.douyin.com/user/MS4wLjABAAAAaszFN5...</td>\n",
       "      <td>1226.0</td>\n",
       "      <td>19.3w</td>\n",
       "      <td>344.3w</td>\n",
       "      <td>648.0</td>\n",
       "      <td>['近期有挂哥冒充我名义开服务器，望大家注意！']</td>\n",
       "      <td>2022-06-04</td>\n",
       "      <td>0.0</td>\n",
       "    </tr>\n",
       "    <tr>\n",
       "      <th>3</th>\n",
       "      <td>rlt_主机单机_00_06_04_2022</td>\n",
       "      <td>QQMuaa</td>\n",
       "      <td>秋秋马🦄</td>\n",
       "      <td>https://live.douyin.com/923670558441</td>\n",
       "      <td>秋秋马🦄的抖音直播间</td>\n",
       "      <td>主机单机</td>\n",
       "      <td>其他主机游戏</td>\n",
       "      <td>3781.0</td>\n",
       "      <td>https://www.douyin.com/user/MS4wLjABAAAAbASBb8...</td>\n",
       "      <td>110.0</td>\n",
       "      <td>231.5w</td>\n",
       "      <td>2149.3w</td>\n",
       "      <td>344.0</td>\n",
       "      <td>['-微博同名同头像：秋秋马（🉑日常私信）', '-游戏开黑q👗：864113604（一群）...</td>\n",
       "      <td>2022-06-04</td>\n",
       "      <td>0.0</td>\n",
       "    </tr>\n",
       "    <tr>\n",
       "      <th>4</th>\n",
       "      <td>rlt_主机单机_00_06_04_2022</td>\n",
       "      <td>1435898915</td>\n",
       "      <td>勇士的荣耀</td>\n",
       "      <td>https://live.douyin.com/667919040089</td>\n",
       "      <td>勇士的荣耀的抖音直播间</td>\n",
       "      <td>主机单机</td>\n",
       "      <td>其他格斗</td>\n",
       "      <td>2883.0</td>\n",
       "      <td>https://www.douyin.com/user/MS4wLjABAAAAHUyjpT...</td>\n",
       "      <td>89.0</td>\n",
       "      <td>283.1w</td>\n",
       "      <td>3727.0w</td>\n",
       "      <td>1781.0</td>\n",
       "      <td>['绽放中国力量的格斗殿堂']</td>\n",
       "      <td>2022-06-04</td>\n",
       "      <td>0.0</td>\n",
       "    </tr>\n",
       "  </tbody>\n",
       "</table>\n",
       "</div>"
      ],
      "text/plain": [
       "              Source.Name            id        name  \\\n",
       "0  rlt_主机单机_00_06_04_2022    2102823322    白老师的正经解说   \n",
       "1  rlt_主机单机_00_06_04_2022  Gzdojo_Weili  威力电竞格斗游戏解说   \n",
       "2  rlt_主机单机_00_06_04_2022   QianNiao530          千鸟   \n",
       "3  rlt_主机单机_00_06_04_2022        QQMuaa        秋秋马🦄   \n",
       "4  rlt_主机单机_00_06_04_2022    1435898915       勇士的荣耀   \n",
       "\n",
       "                               live_adr        live_title live_cat1 live_cat2  \\\n",
       "0  https://live.douyin.com/122968300347    白老师的正经解说的抖音直播间      主机单机      拳皇系列   \n",
       "1   https://live.douyin.com/76490985813  威力电竞格斗游戏解说的抖音直播间      主机单机      拳皇系列   \n",
       "2  https://live.douyin.com/838081084490          千鸟的抖音直播间      主机单机       战地5   \n",
       "3  https://live.douyin.com/923670558441        秋秋马🦄的抖音直播间      主机单机    其他主机游戏   \n",
       "4  https://live.douyin.com/667919040089       勇士的荣耀的抖音直播间      主机单机      其他格斗   \n",
       "\n",
       "   live_pop                                            per_adr  per_follow  \\\n",
       "0    6140.0  https://www.douyin.com/user/MS4wLjABAAAA7NNqJ5...      8231.0   \n",
       "1    4839.0  https://www.douyin.com/user/MS4wLjABAAAAiCwpDj...       837.0   \n",
       "2    4208.0  https://www.douyin.com/user/MS4wLjABAAAAaszFN5...      1226.0   \n",
       "3    3781.0  https://www.douyin.com/user/MS4wLjABAAAAbASBb8...       110.0   \n",
       "4    2883.0  https://www.douyin.com/user/MS4wLjABAAAAHUyjpT...        89.0   \n",
       "\n",
       "  per_fans per_like  per_video_num  \\\n",
       "0    45.2w    23.5w           83.0   \n",
       "1    29.5w    49.6w          567.0   \n",
       "2    19.3w   344.3w          648.0   \n",
       "3   231.5w  2149.3w          344.0   \n",
       "4   283.1w  3727.0w         1781.0   \n",
       "\n",
       "                                           per_intro       date  time_h  \n",
       "0                                                 [] 2022-06-04     0.0  \n",
       "1  ['广州【格斗家】电竞俱乐部【街霸5】选手', '【拳皇】【街霸】专业解说，游戏赛事运营。'... 2022-06-04     0.0  \n",
       "2                          ['近期有挂哥冒充我名义开服务器，望大家注意！'] 2022-06-04     0.0  \n",
       "3  ['-微博同名同头像：秋秋马（🉑日常私信）', '-游戏开黑q👗：864113604（一群）... 2022-06-04     0.0  \n",
       "4                                    ['绽放中国力量的格斗殿堂'] 2022-06-04     0.0  "
      ]
     },
     "execution_count": 5,
     "metadata": {},
     "output_type": "execute_result"
    }
   ],
   "source": [
    "df_src.head()"
   ]
  },
  {
   "cell_type": "code",
   "execution_count": 6,
   "metadata": {},
   "outputs": [
    {
     "data": {
      "text/plain": [
       "array(['2022-03-25', '2022-03-27', '2022-03-28', '2022-03-29',\n",
       "       '2022-03-30', '2022-03-31', '2022-04-01', '2022-04-02',\n",
       "       '2022-04-03', '2022-04-04', '2022-04-05', '2022-04-06',\n",
       "       '2022-04-07', '2022-04-08', '2022-04-09', '2022-04-10',\n",
       "       '2022-04-11', '2022-04-20', '2022-04-21', '2022-04-30',\n",
       "       '2022-05-22', '2022-05-23', '2022-06-03', '2022-06-04'],\n",
       "      dtype=object)"
      ]
     },
     "execution_count": 6,
     "metadata": {},
     "output_type": "execute_result"
    }
   ],
   "source": [
    "df_src['date'] = df_src['Source.Name'].apply(\n",
    "    lambda x: x.split('_')[-1] + '-' + x.split('_')[-2] + '-' + x.split('_')[-3])\n",
    "time_slice = df_src['date'].unique()\n",
    "time_slice.sort()\n",
    "time_slice"
   ]
  },
  {
   "cell_type": "code",
   "execution_count": 7,
   "metadata": {},
   "outputs": [
    {
     "data": {
      "text/plain": [
       "array(['主机单机', '娱乐天地', '射击游戏', '手机游戏', '棋牌游戏', '科技文化', '网游竞技'],\n",
       "      dtype=object)"
      ]
     },
     "execution_count": 7,
     "metadata": {},
     "output_type": "execute_result"
    }
   ],
   "source": [
    "df_src.loc[df_src['date'] == '2022-04-30', 'live_cat1'].unique()"
   ]
  },
  {
   "cell_type": "code",
   "execution_count": 8,
   "metadata": {},
   "outputs": [
    {
     "data": {
      "text/plain": [
       "array(['主机单机', '休闲游戏', '娱乐天地', '射击游戏', '棋牌桌游', '科技文化', '竞技游戏', '策略游戏',\n",
       "       '角色扮演'], dtype=object)"
      ]
     },
     "execution_count": 8,
     "metadata": {},
     "output_type": "execute_result"
    }
   ],
   "source": [
    "df_src.loc[df_src['date'] == '2022-05-22', 'live_cat1'].unique()"
   ]
  },
  {
   "cell_type": "markdown",
   "metadata": {},
   "source": [
    "更换分类标签的行为发生在4.30-5.22之间，由于数据采集原因，我们在标签改动后只有四天数据，那么更改前也只对应四天数据进行实验组与对照组的比较。  \n",
    "实际上我们应该按照前面计算的样本量与实验时间选择实验集与测试集。其中可能用到`pd.sample()`方法筛选得到我们的具体样本。"
   ]
  },
  {
   "cell_type": "code",
   "execution_count": 9,
   "metadata": {},
   "outputs": [],
   "source": [
    "df_control = df_src.loc[df_src['date'].isin(['2022-04-11', '2022-04-20', '2022-04-21', '2022-04-30']), ['name', 'live_cat1', 'live_pop', 'date']]\n",
    "df_treatment = df_src.loc[df_src['date'].isin(['2022-05-22', '2022-05-23', '2022-06-03', '2022-06-04']), ['name', 'live_cat1', 'live_pop', 'date']]\n",
    "\n",
    "df_control['group'] = 'control'\n",
    "df_treatment['group'] = 'treatment'\n",
    "\n",
    "df_cmb = pd.concat([df_control, df_treatment])\n",
    "live_pop = df_cmb.groupby('group')['live_pop']"
   ]
  },
  {
   "cell_type": "code",
   "execution_count": 11,
   "metadata": {},
   "outputs": [
    {
     "data": {
      "text/plain": [
       "group\n",
       "control      9984.0\n",
       "treatment    9972.0\n",
       "Name: live_pop, dtype: float64"
      ]
     },
     "execution_count": 11,
     "metadata": {},
     "output_type": "execute_result"
    }
   ],
   "source": [
    "live_pop.max()"
   ]
  },
  {
   "cell_type": "code",
   "execution_count": 13,
   "metadata": {},
   "outputs": [
    {
     "data": {
      "text/plain": [
       "3000.0"
      ]
     },
     "execution_count": 13,
     "metadata": {},
     "output_type": "execute_result"
    }
   ],
   "source": [
    "3e3"
   ]
  },
  {
   "cell_type": "code",
   "execution_count": 17,
   "metadata": {},
   "outputs": [
    {
     "data": {
      "text/html": [
       "<style  type=\"text/css\" >\n",
       "</style><table id=\"T_ac64a1c0_f89e_11ec_96df_fc77747e9f3b\" ><thead>    <tr>        <th class=\"blank level0\" ></th>        <th class=\"col_heading level0 col0\" >live_pop_mean</th>        <th class=\"col_heading level0 col1\" >std_deviation</th>        <th class=\"col_heading level0 col2\" >std_error</th>    </tr>    <tr>        <th class=\"index_name level0\" >group</th>        <th class=\"blank\" ></th>        <th class=\"blank\" ></th>        <th class=\"blank\" ></th>    </tr></thead><tbody>\n",
       "                <tr>\n",
       "                        <th id=\"T_ac64a1c0_f89e_11ec_96df_fc77747e9f3blevel0_row0\" class=\"row_heading level0 row0\" >control</th>\n",
       "                        <td id=\"T_ac64a1c0_f89e_11ec_96df_fc77747e9f3brow0_col0\" class=\"data row0 col0\" >0.030</td>\n",
       "                        <td id=\"T_ac64a1c0_f89e_11ec_96df_fc77747e9f3brow0_col1\" class=\"data row0 col1\" >0.055</td>\n",
       "                        <td id=\"T_ac64a1c0_f89e_11ec_96df_fc77747e9f3brow0_col2\" class=\"data row0 col2\" >nan</td>\n",
       "            </tr>\n",
       "            <tr>\n",
       "                        <th id=\"T_ac64a1c0_f89e_11ec_96df_fc77747e9f3blevel0_row1\" class=\"row_heading level0 row1\" >treatment</th>\n",
       "                        <td id=\"T_ac64a1c0_f89e_11ec_96df_fc77747e9f3brow1_col0\" class=\"data row1 col0\" >0.029</td>\n",
       "                        <td id=\"T_ac64a1c0_f89e_11ec_96df_fc77747e9f3brow1_col1\" class=\"data row1 col1\" >0.058</td>\n",
       "                        <td id=\"T_ac64a1c0_f89e_11ec_96df_fc77747e9f3brow1_col2\" class=\"data row1 col2\" >nan</td>\n",
       "            </tr>\n",
       "    </tbody></table>"
      ],
      "text/plain": [
       "<pandas.io.formats.style.Styler at 0x1f4a3546280>"
      ]
     },
     "execution_count": 17,
     "metadata": {},
     "output_type": "execute_result"
    }
   ],
   "source": [
    "df_control = df_src.loc[df_src['date'].isin(['2022-04-11', '2022-04-20', '2022-04-21', '2022-04-30']), ['name', 'live_cat1', 'live_pop', 'date']]\n",
    "df_treatment = df_src.loc[df_src['date'].isin(['2022-05-22', '2022-05-23', '2022-06-03', '2022-06-04']), ['name', 'live_cat1', 'live_pop', 'date']]\n",
    "\n",
    "df_control['group'] = 'control'\n",
    "df_treatment['group'] = 'treatment'\n",
    "\n",
    "df_cmb = pd.concat([df_control, df_treatment])\n",
    "\n",
    "# live_pop.max()\n",
    "# group\n",
    "# control      9984.0\n",
    "# treatment    9972.0\n",
    "df_cmb['live_pop_rate'] = df_cmb['live_pop']/3e4\n",
    "live_pop = df_cmb.groupby('group')['live_pop_rate']\n",
    "\n",
    "std_p = lambda x: np.std(x, ddof=0)              # Std. deviation\n",
    "se_p = lambda x: stats.sem(x, ddof=0)            # Std. error of the proportion (std / sqrt(n))\n",
    "\n",
    "live_pop = live_pop.agg([np.mean, std_p, se_p])\n",
    "live_pop.columns = ['live_pop_mean', 'std_deviation', 'std_error']\n",
    "\n",
    "live_pop.style.format('{:.3f}')"
   ]
  },
  {
   "cell_type": "markdown",
   "metadata": {},
   "source": [
    "reference from [this website](https://towardsdatascience.com/ab-testing-with-python-e5964dd66143).  \n",
    "\n",
    "To test our hypothesis, since we have a very large sample, we can use the normal approximation for calculating our p-value (i.e. z-test).\n",
    "\n",
    "Python makes all the calculations very easy. We can use the statsmodels.stats.proportion module to get the p-value and confidence intervals: \n",
    "\n",
    "This method can be used for ratio metrics, as shown in the following codes, but it is not suitable for our case."
   ]
  },
  {
   "cell_type": "code",
   "execution_count": 18,
   "metadata": {},
   "outputs": [
    {
     "name": "stdout",
     "output_type": "stream",
     "text": [
      "z statistic: 0.21\n",
      "p-value: 0.832\n",
      "ci 95% for control group: [0.025, 0.036]\n",
      "ci 95% for treatment group: [0.023, 0.036]\n"
     ]
    }
   ],
   "source": [
    "from statsmodels.stats.proportion import proportions_ztest, proportion_confint\n",
    "control_results = df_cmb[df_cmb['group'] == 'control']['live_pop_rate']\n",
    "treatment_results = df_cmb[df_cmb['group'] == 'treatment']['live_pop_rate']\n",
    "n_con = control_results.count()\n",
    "n_treat = treatment_results.count()\n",
    "successes = [control_results.sum(), treatment_results.sum()]\n",
    "nobs = [n_con, n_treat]\n",
    "\n",
    "z_stat, pval = proportions_ztest(successes, nobs=nobs)\n",
    "(lower_con, lower_treat), (upper_con, upper_treat) = proportion_confint(successes, nobs=nobs, alpha=0.05)\n",
    "\n",
    "print(f'z statistic: {z_stat:.2f}')\n",
    "print(f'p-value: {pval:.3f}')\n",
    "print(f'ci 95% for control group: [{lower_con:.3f}, {upper_con:.3f}]')\n",
    "print(f'ci 95% for treatment group: [{lower_treat:.3f}, {upper_treat:.3f}]')"
   ]
  },
  {
   "cell_type": "markdown",
   "metadata": {},
   "source": [
    "<a id='validity_check'></a>\n",
    "## [5.可行性检验](#content)"
   ]
  },
  {
   "cell_type": "markdown",
   "metadata": {},
   "source": [
    "<img src='photos/sanity_check.png' width=\"280\"/>  \n",
    "5.1设备可能带来的影响：护栏指标（如延迟时间，平均用时等） \n",
    "<img src='photos/guardrail_metrics_en.png' width=\"320\"/>  \n",
    "<img src='photos/guardrail_metrics_cn.png' width=\"320\"/>  \n",
    "5.2外部因素：假期，竞品，经济波动（疫情等）。  \n",
    "\n",
    "5.3选择偏见：selection bias ：A/A Test。Underling distribution between control and treatment group (even before they are exposed to treatment condition) are homogenous.    \n",
    "<img src='photos/aa_test.png' width=\"360\"/>  \n",
    "5.4样本比例不均匀。有可能由于算法等缘故导致两组之间人数分布不是50% 50%。\n",
    "\n",
    "5.5用户新鲜度影响：在分配样本用户的时候将用户分成新/老用户两部分。如果他们之间在结果上有明显差距则大概率有新鲜度影响。\n"
   ]
  },
  {
   "cell_type": "markdown",
   "metadata": {},
   "source": [
    "<a id='interpret_result_and_make_decision'></a>\n",
    "## [6.阐述实验结果并做出决定](#content)"
   ]
  },
  {
   "cell_type": "markdown",
   "metadata": {},
   "source": [
    "对于我们的实验而言，因为$P$值为$0.823$远大于$0.05$，我们并不能拒绝原假设，即更改直播标签分类并不能显著地增加直播间人气。并且通过实验组$95\\%$置信区间的数据我们可以看到他相对于对照组没有提升，只是下限稍微低了一点，这也进一步说明了我们的实验没有取得显著的增长人气的效果。\n",
    "\n",
    "更广泛的讲，我们需要考虑的点：\n",
    "* metric trade-offs：success metric提升但是护栏指标很差。\n",
    "* 上线cost，代价是否很高。上线并且维护所有用户的更新可能会花费很多。\n",
    "* Type I error。错误地认为对照组和实验组有差别。 \n",
    "\n",
    "查看实验结果的lift：range of lift在95置信区间：即95%可能性lift value应该在的数值区间。\n",
    "<img src='photos/launch_decision_based_on_lift.png' width=\"320\"/> \n",
    "The above figure shows the range of lift on a 95% confident. Namely, 95% likely hood that the lift value should be. Case 2 shows high possibility that we should make the change. Case 1 and 3 are bad, we should reject the experiment or rerun experiment. Case 4 and 5 shows that there is a chance that we can get high lift value, we should rerun the experiment with a higher statistical power and check if the lift will lie in a better manner.\n",
    "<img src='photos/result_interpretion.png' width=\"320\"/> "
   ]
  }
 ],
 "metadata": {
  "kernelspec": {
   "display_name": "Python 3",
   "language": "python",
   "name": "python3"
  },
  "language_info": {
   "codemirror_mode": {
    "name": "ipython",
    "version": 3
   },
   "file_extension": ".py",
   "mimetype": "text/x-python",
   "name": "python",
   "nbconvert_exporter": "python",
   "pygments_lexer": "ipython3",
   "version": "3.8.5"
  }
 },
 "nbformat": 4,
 "nbformat_minor": 4
}
